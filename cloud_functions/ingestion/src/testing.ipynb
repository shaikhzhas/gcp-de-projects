{
 "cells": [
  {
   "cell_type": "code",
   "execution_count": 1,
   "metadata": {},
   "outputs": [
    {
     "name": "stderr",
     "output_type": "stream",
     "text": [
      "/Users/shaikhygalizhassulan/Library/Python/3.9/lib/python/site-packages/requests/__init__.py:102: RequestsDependencyWarning: urllib3 (1.26.18) or chardet (5.2.0)/charset_normalizer (2.0.12) doesn't match a supported version!\n",
      "  warnings.warn(\"urllib3 ({}) or chardet ({})/charset_normalizer ({}) doesn't match a supported \"\n"
     ]
    }
   ],
   "source": [
    "from google.cloud import bigquery\n",
    "from google.cloud.exceptions import NotFound"
   ]
  },
  {
   "cell_type": "code",
   "execution_count": 4,
   "metadata": {},
   "outputs": [],
   "source": [
    "import os\n",
    "os.environ[\"GOOGLE_APPLICATION_CREDENTIALS\"] = \"/Users/shaikhygalizhassulan/terraform-key.json\"\n"
   ]
  },
  {
   "cell_type": "code",
   "execution_count": 5,
   "metadata": {},
   "outputs": [
    {
     "name": "stdout",
     "output_type": "stream",
     "text": [
      "Deleted table 'sustainable-data-platform.sdp.sample_sustainability_data_with_schema'.\n"
     ]
    }
   ],
   "source": [
    "# Initialize a BigQuery client\n",
    "project_id = \"sustainable-data-platform\"\n",
    "client = bigquery.Client(project=project_id)\n",
    "\n",
    "# Define the table ID\n",
    "table_id = \"sustainable-data-platform.sdp.sample_sustainability_data_with_schema\"\n",
    "\n",
    "# Attempt to delete the table if it exists\n",
    "try:\n",
    "    client.delete_table(table_id, not_found_ok=True)  # Make an API request.\n",
    "    print(f\"Deleted table '{table_id}'.\")\n",
    "except NotFound:\n",
    "    print(f\"Table '{table_id}' not found.\")"
   ]
  },
  {
   "cell_type": "code",
   "execution_count": 6,
   "metadata": {},
   "outputs": [
    {
     "name": "stdout",
     "output_type": "stream",
     "text": [
      "Table 'sustainable-data-platform.sdp.sample_sustainability_data_with_schema' is updated with data from 'gs://sdp-dev/sample_sustainability_*.csv'.\n"
     ]
    }
   ],
   "source": [
    "\n",
    "\n",
    "\n",
    "\n",
    "# Define the job configuration for loading data\n",
    "job_config = bigquery.LoadJobConfig(\n",
    "    source_format=bigquery.SourceFormat.CSV,\n",
    "    skip_leading_rows=1,  # Skip the header row\n",
    "    autodetect=True,  # Automatically detect the schema\n",
    ")\n",
    "\n",
    "# Define the URI of the source file in GCS\n",
    "uri = \"gs://sdp-dev/sample_sustainability_*.csv\"\n",
    "\n",
    "# Start the load job\n",
    "load_job = client.load_table_from_uri(\n",
    "    uri,\n",
    "    table_id,\n",
    "    job_config=job_config\n",
    ")\n",
    "\n",
    "# Wait for the load job to complete\n",
    "load_job.result()\n",
    "\n",
    "print(f\"Table '{table_id}' is updated with data from '{uri}'.\")"
   ]
  },
  {
   "cell_type": "code",
   "execution_count": null,
   "metadata": {},
   "outputs": [],
   "source": []
  }
 ],
 "metadata": {
  "kernelspec": {
   "display_name": "Python 3",
   "language": "python",
   "name": "python3"
  },
  "language_info": {
   "codemirror_mode": {
    "name": "ipython",
    "version": 3
   },
   "file_extension": ".py",
   "mimetype": "text/x-python",
   "name": "python",
   "nbconvert_exporter": "python",
   "pygments_lexer": "ipython3",
   "version": "3.9.6"
  }
 },
 "nbformat": 4,
 "nbformat_minor": 2
}
